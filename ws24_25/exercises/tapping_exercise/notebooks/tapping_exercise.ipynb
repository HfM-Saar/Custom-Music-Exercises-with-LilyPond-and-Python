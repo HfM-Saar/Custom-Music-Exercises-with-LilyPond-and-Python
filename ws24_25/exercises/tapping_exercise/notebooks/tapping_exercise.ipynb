{
 "cells": [
  {
   "cell_type": "code",
   "execution_count": 21,
   "id": "initial_id",
   "metadata": {
    "collapsed": true,
    "ExecuteTime": {
     "end_time": "2024-12-24T11:12:09.401889242Z",
     "start_time": "2024-12-24T11:12:09.356965907Z"
    }
   },
   "outputs": [
    {
     "data": {
      "text/plain": "['\\\\version \"2.24.4\"\\n',\n '\\\\paper {\\n',\n '  ragged-right = ##t % Prevents bars from being stretched\\n',\n '}\\n',\n '{\\n',\n '\\\\clef bass\\n',\n '\\\\relative c{r8 e8 e4 e4 e4 |} \\\\break\\n',\n '\\\\relative c{e4 e8 r8 e4 e4 |} \\\\break\\n',\n '\\\\relative c{e4 e4 r8 e8 e4 |} \\\\break\\n',\n '\\\\relative c{e4 e4 e4 r8 e8 |} \\\\break\\n',\n '\\\\relative c{r8 e8 r8 e8 e4 e4 |} \\\\break\\n',\n '\\\\relative c{e4 r8 e8 r8 e8 e4 |} \\\\break\\n',\n '\\\\relative c{e4 e4 r8 e8 r8 e8 |} \\\\break\\n',\n '\\\\relative c{r8 e8 e4 e4 r8 e8 |} \\\\break\\n',\n '\\\\relative c{r8 e8 e4 r8 e8 e4 |} \\\\break\\n',\n '\\\\relative c{e4 r8 e8 e4 r8 e8 |} \\\\break\\n',\n '\\\\relative c{r8 e8 r8 e8 r8 e8 e4 |} \\\\break\\n',\n '\\\\relative c{r8 e8 r8 e8 e4 r8 e8 |} \\\\break\\n',\n '\\\\relative c{r8 e8 e4 r8 e8 r8 e8 |} \\\\break\\n',\n '\\\\relative c{e4 r8 e8 r8 e8 r8 e8 |} \\\\break\\n',\n '\\\\relative c{r8 e8 r8 e8 r8 e8 r8 e8 |} \\\\break\\n',\n '\\\\relative c{e4 r8 e8 r8 e8 e4 |} \\\\break\\n',\n '\\\\relative c{r4 r8 e8 r8 e8 r8 e8|} \\\\break\\n',\n '\\\\relative c{r8 e8 r8 e8 r4 r8 e8|} \\\\break\\n',\n '\\\\relative c{e4 r8 e8 r8 e8 r8 e8|} \\\\break\\n',\n '\\\\relative c{r8 e8 r8 e8 r4 r4|} \\\\break\\n',\n '\\\\relative c{r8 e8 r8 e8 e4 e4|} \\\\break\\n',\n '\\\\relative c{r8 e8 r4 r8 e8 r8 e8|} \\\\break\\n',\n '\\\\relative c{e4 r8 e8 r4 r8 e8 |} \\\\break\\n',\n '% TODO P7\\n',\n '}\\n']"
     },
     "execution_count": 21,
     "metadata": {},
     "output_type": "execute_result"
    }
   ],
   "source": [
    "# open eights-patterns\n",
    "with open(\"../patterns/eights_patterns.ly\") as f:\n",
    "    lines = f.readlines()\n",
    "lines"
   ]
  },
  {
   "cell_type": "code",
   "execution_count": 22,
   "outputs": [
    {
     "data": {
      "text/plain": "['\\\\relative c{r8 e8 e4 e4 e4 |}',\n '\\\\relative c{e4 e8 r8 e4 e4 |}',\n '\\\\relative c{e4 e4 r8 e8 e4 |}',\n '\\\\relative c{e4 e4 e4 r8 e8 |}',\n '\\\\relative c{r8 e8 r8 e8 e4 e4 |}',\n '\\\\relative c{e4 r8 e8 r8 e8 e4 |}',\n '\\\\relative c{e4 e4 r8 e8 r8 e8 |}',\n '\\\\relative c{r8 e8 e4 e4 r8 e8 |}',\n '\\\\relative c{r8 e8 e4 r8 e8 e4 |}',\n '\\\\relative c{e4 r8 e8 e4 r8 e8 |}',\n '\\\\relative c{r8 e8 r8 e8 r8 e8 e4 |}',\n '\\\\relative c{r8 e8 r8 e8 e4 r8 e8 |}',\n '\\\\relative c{r8 e8 e4 r8 e8 r8 e8 |}',\n '\\\\relative c{e4 r8 e8 r8 e8 r8 e8 |}',\n '\\\\relative c{r8 e8 r8 e8 r8 e8 r8 e8 |}',\n '\\\\relative c{e4 r8 e8 r8 e8 e4 |}',\n '\\\\relative c{r4 r8 e8 r8 e8 r8 e8|}',\n '\\\\relative c{r8 e8 r8 e8 r4 r8 e8|}',\n '\\\\relative c{e4 r8 e8 r8 e8 r8 e8|}',\n '\\\\relative c{r8 e8 r8 e8 r4 r4|}',\n '\\\\relative c{r8 e8 r8 e8 e4 e4|}',\n '\\\\relative c{r8 e8 r4 r8 e8 r8 e8|}',\n '\\\\relative c{e4 r8 e8 r4 r8 e8 |}']"
     },
     "execution_count": 22,
     "metadata": {},
     "output_type": "execute_result"
    }
   ],
   "source": [
    "# save patterns from file into a list\n",
    "patterns = [line.replace(\"\\\\break\", \"\").strip() for line in lines if line.startswith(\"\\\\relative\")]\n",
    "patterns"
   ],
   "metadata": {
    "collapsed": false,
    "ExecuteTime": {
     "end_time": "2024-12-24T11:12:09.402989456Z",
     "start_time": "2024-12-24T11:12:09.401115087Z"
    }
   },
   "id": "11766fab2d404068"
  },
  {
   "cell_type": "code",
   "execution_count": 23,
   "outputs": [],
   "source": [
    "# pick 4 random patterns\n",
    "import random\n",
    "p1, p2, p3, p4 = p_selected = random.sample(patterns, 4)"
   ],
   "metadata": {
    "collapsed": false,
    "ExecuteTime": {
     "end_time": "2024-12-24T11:12:09.403245003Z",
     "start_time": "2024-12-24T11:12:09.401419458Z"
    }
   },
   "id": "605c734830201581"
  },
  {
   "cell_type": "code",
   "execution_count": 24,
   "outputs": [
    {
     "data": {
      "text/plain": "'p_a = \\\\relative c{e4 e4 r8 e8 r8 e8 |}\\np_b = \\\\relative c{r8 e8 r8 e8 r4 r4|}\\np_c = \\\\relative c{r8 e8 e4 e4 r8 e8 |}\\np_d = \\\\relative c{r8 e8 r4 r8 e8 r8 e8|}\\n'"
     },
     "execution_count": 24,
     "metadata": {},
     "output_type": "execute_result"
    }
   ],
   "source": [
    "# define ly-variables for score-template\n",
    "variables = f\"p_a = {p1}\\n\" \\\n",
    "            f\"p_b = {p2}\\n\" \\\n",
    "            f\"p_c = {p3}\\n\" \\\n",
    "            f\"p_d = {p4}\\n\"\n",
    "variables"
   ],
   "metadata": {
    "collapsed": false,
    "ExecuteTime": {
     "end_time": "2024-12-24T11:12:09.403622033Z",
     "start_time": "2024-12-24T11:12:09.401604202Z"
    }
   },
   "id": "a743a8954a02f5f"
  },
  {
   "cell_type": "code",
   "execution_count": 25,
   "outputs": [],
   "source": [
    "# read score template\n",
    "with open(\"../templates/score.ly\") as f:\n",
    "    score = f.read()"
   ],
   "metadata": {
    "collapsed": false,
    "ExecuteTime": {
     "end_time": "2024-12-24T11:12:09.405224307Z",
     "start_time": "2024-12-24T11:12:09.401819619Z"
    }
   },
   "id": "f181e8c55a23062d"
  },
  {
   "cell_type": "code",
   "execution_count": 26,
   "outputs": [],
   "source": [
    "# Replace variables and compose in template\n",
    "score = score.replace(\"{{{variables}}}\", variables)\n",
    "score = score.replace(\"{{{composer}}}\", \"Benjamin Wolff\")"
   ],
   "metadata": {
    "collapsed": false,
    "ExecuteTime": {
     "end_time": "2024-12-24T11:12:09.416052257Z",
     "start_time": "2024-12-24T11:12:09.406552332Z"
    }
   },
   "id": "ee6045cc9af361a6"
  },
  {
   "cell_type": "code",
   "execution_count": 27,
   "outputs": [],
   "source": [
    "# pick random summary for both hands -> 32 bars (4 patterns * 8)\n",
    "summary = [\"\\\\p_a\", \"\\\\p_b\", \"\\\\p_c\", \"\\\\p_d\"] * 8  # create a list with variable names used in ly-template\n",
    "summary_left = random.sample(summary, 32)\n",
    "summary_right = random.sample(summary, 32)\n",
    "score = score.replace(\"{{{summary_left}}}\", \" \".join(summary_left))\n",
    "score = score.replace(\"{{{summary_right}}}\", \" \".join(summary_right))"
   ],
   "metadata": {
    "collapsed": false,
    "ExecuteTime": {
     "end_time": "2024-12-24T11:12:09.457934031Z",
     "start_time": "2024-12-24T11:12:09.417038898Z"
    }
   },
   "id": "66c04cc1856ee3e0"
  },
  {
   "cell_type": "code",
   "execution_count": 28,
   "outputs": [],
   "source": [
    "# write generated score\n",
    "with open(\"../scores/my_score.ly\", \"w\") as f:\n",
    "    f.write(score)"
   ],
   "metadata": {
    "collapsed": false,
    "ExecuteTime": {
     "end_time": "2024-12-24T11:12:09.458095179Z",
     "start_time": "2024-12-24T11:12:09.457735226Z"
    }
   },
   "id": "f266022ab4586f99"
  }
 ],
 "metadata": {
  "kernelspec": {
   "display_name": "Python 3",
   "language": "python",
   "name": "python3"
  },
  "language_info": {
   "codemirror_mode": {
    "name": "ipython",
    "version": 2
   },
   "file_extension": ".py",
   "mimetype": "text/x-python",
   "name": "python",
   "nbconvert_exporter": "python",
   "pygments_lexer": "ipython2",
   "version": "2.7.6"
  }
 },
 "nbformat": 4,
 "nbformat_minor": 5
}
