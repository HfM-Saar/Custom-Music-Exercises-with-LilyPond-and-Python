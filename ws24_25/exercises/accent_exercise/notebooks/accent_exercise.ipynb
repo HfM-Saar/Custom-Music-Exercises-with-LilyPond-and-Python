{
 "cells": [
  {
   "cell_type": "code",
   "execution_count": null,
   "outputs": [],
   "source": [
    "import random\n",
    "import parce\n",
    "from quickly.lang.lilypond import LilyPond"
   ],
   "metadata": {
    "collapsed": false
   },
   "id": "bd17e16d405bcf36"
  },
  {
   "cell_type": "code",
   "execution_count": null,
   "outputs": [],
   "source": [
    "# load patterns for exercise 3)\n",
    "with open(\"../patterns/patterns.ly\") as f:\n",
    "    lines = f.readlines()"
   ],
   "metadata": {
    "collapsed": false
   },
   "id": "efbd1e46b3e48d57"
  },
  {
   "cell_type": "code",
   "execution_count": null,
   "outputs": [],
   "source": [
    "# write patterns to list\n",
    "patterns = [line.replace(\"\\\\break\", \"\").strip() for line in lines if line.startswith(\"\\\\relative\")]"
   ],
   "metadata": {
    "collapsed": false
   },
   "id": "64127fa330862d2f"
  },
  {
   "cell_type": "code",
   "execution_count": null,
   "outputs": [],
   "source": [
    "ex_3 = random.sample(patterns * 3, 10)"
   ],
   "metadata": {
    "collapsed": false
   },
   "id": "b0ba5babf59c3ff2"
  },
  {
   "cell_type": "code",
   "execution_count": null,
   "outputs": [],
   "source": [
    "ly = f\"{{{\" \".join(ex_3)}}}\""
   ],
   "metadata": {
    "collapsed": false
   },
   "id": "4fcc6f8160d36f41"
  },
  {
   "cell_type": "code",
   "execution_count": null,
   "outputs": [],
   "source": [
    "# create tree and music with parce and quickly\n",
    "t = parce.transform.Transformer()\n",
    "tree = parce.root(LilyPond.root, ly)\n",
    "music = t.transform_tree(tree)"
   ],
   "metadata": {
    "collapsed": false
   },
   "id": "241f70879a991c61"
  },
  {
   "cell_type": "code",
   "execution_count": null,
   "outputs": [],
   "source": [
    "from quickly.dom import lily\n",
    "chance = 0.4\n",
    "for node in music // (lily.Note, lily.Chord):\n",
    "    if not isinstance(node.parent, lily.ChordBody) and random.random() < chance:\n",
    "        node.append(lily.Articulations(lily.Direction(0, lily.Articulation('>'))))"
   ],
   "metadata": {
    "collapsed": false
   },
   "id": "cf7806230351efb4"
  },
  {
   "cell_type": "code",
   "execution_count": null,
   "outputs": [],
   "source": [
    "with open(\"../templates/accent_score.ly\") as f:\n",
    "    score = f.read()"
   ],
   "metadata": {
    "collapsed": false
   },
   "id": "afd947d774d05bf"
  },
  {
   "cell_type": "code",
   "execution_count": null,
   "outputs": [],
   "source": [
    "# replace placeholder in template\n",
    "score = score.replace(\"%<<<exercise_3>>>\", music.write())"
   ],
   "metadata": {
    "collapsed": false
   },
   "id": "bb8462a2a7f99f5"
  },
  {
   "cell_type": "code",
   "execution_count": null,
   "outputs": [],
   "source": [
    "with open(\"../scores/my_exercise.ly\", \"w\") as f:\n",
    "    f.write(score)"
   ],
   "metadata": {
    "collapsed": false
   },
   "id": "a2f4055d74dcf0a5"
  }
 ],
 "metadata": {
  "kernelspec": {
   "display_name": "Python 3",
   "language": "python",
   "name": "python3"
  },
  "language_info": {
   "codemirror_mode": {
    "name": "ipython",
    "version": 2
   },
   "file_extension": ".py",
   "mimetype": "text/x-python",
   "name": "python",
   "nbconvert_exporter": "python",
   "pygments_lexer": "ipython2",
   "version": "2.7.6"
  }
 },
 "nbformat": 4,
 "nbformat_minor": 5
}
